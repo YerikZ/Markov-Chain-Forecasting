{
 "cells": [
  {
   "cell_type": "markdown",
   "metadata": {},
   "source": [
    "## Forecasting using Markov Chain"
   ]
  },
  {
   "cell_type": "markdown",
   "metadata": {},
   "source": [
    "Models:\n",
    "1. Get the sales array from the last year for the category/product to be forecasted\n",
    "2. Classify the sales values into discrete states (e.g 100 states)\n",
    "3. Calculate the transition matrix based on last year sales array\n",
    "4. Make the forecast"
   ]
  },
  {
   "cell_type": "code",
   "execution_count": 1,
   "metadata": {},
   "outputs": [],
   "source": [
    "import numpy as np\n",
    "import matplotlib.pyplot as plt"
   ]
  },
  {
   "cell_type": "code",
   "execution_count": 329,
   "metadata": {},
   "outputs": [],
   "source": [
    "### intialise the parameters\n",
    "low = 0\n",
    "high = 200\n",
    "week_size = 52\n",
    "n_states = 20"
   ]
  },
  {
   "cell_type": "markdown",
   "metadata": {},
   "source": [
    "#### Step 1"
   ]
  },
  {
   "cell_type": "code",
   "execution_count": 374,
   "metadata": {},
   "outputs": [],
   "source": [
    "np.random.seed(1)\n",
    "ly_act_week_sales = np.random.randint(low=low, high=high, size=week_size)"
   ]
  },
  {
   "cell_type": "code",
   "execution_count": 331,
   "metadata": {},
   "outputs": [
    {
     "data": {
      "text/plain": [
       "array([ 37, 140,  72, 137, 133,  79, 192, 144, 129,  71, 134,  25, 178,\n",
       "        20, 101, 146, 139, 156, 157, 142,  50,  68,  96,  86, 141, 137,\n",
       "         7,  63,  61,  22,  57,   1, 128,  60,   8, 141, 115, 175, 121,\n",
       "        30,  71, 131, 198, 149,  49,  57,   3, 196,  24,  43,  76,  26])"
      ]
     },
     "execution_count": 331,
     "metadata": {},
     "output_type": "execute_result"
    }
   ],
   "source": [
    "ly_act_week_sales"
   ]
  },
  {
   "cell_type": "markdown",
   "metadata": {},
   "source": [
    "#### Step 2"
   ]
  },
  {
   "cell_type": "code",
   "execution_count": 421,
   "metadata": {},
   "outputs": [],
   "source": [
    "def sales_state_class(series, low, high, n_bins):\n",
    "    arr_bins = np.zeros(n_bins+1)\n",
    "    \n",
    "    interval = (high - low) / n_bins\n",
    "    arr_bins[0] = low\n",
    "    for i in range(1, n_bins+1):\n",
    "        arr_bins[i] = arr_bins[i-1] + interval\n",
    "    #print(arr_bins)\n",
    "    \n",
    "    sales_state_map = np.zeros(len(arr_bins)-1)\n",
    "    for (i,j) in zip(range(0, len(arr_bins)), range(1, len(arr_bins))):\n",
    "        #print(i, j)\n",
    "        sales_state_map[i] = (arr_bins[i] + arr_bins[j])/2 \n",
    "    \n",
    "    # bucket starts from 1, -1 to make it start from 0\n",
    "    return np.digitize(series, arr_bins, right=True)-1, sales_state_map"
   ]
  },
  {
   "cell_type": "code",
   "execution_count": 423,
   "metadata": {},
   "outputs": [
    {
     "data": {
      "text/plain": [
       "array([  5.,  15.,  25.,  35.,  45.,  55.,  65.,  75.,  85.,  95., 105.,\n",
       "       115., 125., 135., 145., 155., 165., 175., 185., 195.])"
      ]
     },
     "execution_count": 423,
     "metadata": {},
     "output_type": "execute_result"
    }
   ],
   "source": [
    "sales_state_class(ly_act_week_sales, low, high, n_states)[1]"
   ]
  },
  {
   "cell_type": "code",
   "execution_count": 468,
   "metadata": {},
   "outputs": [],
   "source": [
    "ly_act_week_sales_state, ly_act_week_sales_fcast = sales_state_class(ly_act_week_sales, low, high, n_states)"
   ]
  },
  {
   "cell_type": "markdown",
   "metadata": {},
   "source": [
    "#### Step 3"
   ]
  },
  {
   "cell_type": "code",
   "execution_count": 360,
   "metadata": {},
   "outputs": [],
   "source": [
    "def transition_matrix(transitions, n_states):\n",
    "    #n = np.unique(transitions).shape[0] #number of states\n",
    "\n",
    "    M = np.zeros((n_states, n_states))\n",
    "\n",
    "    for (i,j) in zip(transitions[:-1], transitions[1:]):\n",
    "        #print(i,j)\n",
    "        M[i, j] += 1\n",
    "\n",
    "    #now convert to probabilities:\n",
    "    for row in M:\n",
    "        s = np.sum(row)\n",
    "        if s > 0:\n",
    "            row[:] = [f/s for f in row]\n",
    "    return M"
   ]
  },
  {
   "cell_type": "code",
   "execution_count": 361,
   "metadata": {},
   "outputs": [
    {
     "data": {
      "text/plain": [
       "array([ 3, 13,  7, 13, 13,  7, 19, 14, 12,  7, 13,  2, 17,  1, 10, 14, 13,\n",
       "       15, 15, 14,  4,  6,  9,  8, 14, 13,  0,  6,  6,  2,  5,  0, 12,  5,\n",
       "        0, 14, 11, 17, 12,  2,  7, 13, 19, 14,  4,  5,  0, 19,  2,  4,  7,\n",
       "        2])"
      ]
     },
     "execution_count": 361,
     "metadata": {},
     "output_type": "execute_result"
    }
   ],
   "source": [
    "ly_act_week_sales_state"
   ]
  },
  {
   "cell_type": "code",
   "execution_count": 362,
   "metadata": {},
   "outputs": [
    {
     "data": {
      "text/plain": [
       "array([ 3, 13,  7, 13, 13,  7, 19, 14, 12,  7, 13,  2, 17,  1, 10, 14, 13,\n",
       "       15, 15, 14,  4,  6,  9,  8, 14, 13,  0,  6,  6,  2,  5,  0, 12,  5,\n",
       "        0, 14, 11, 17, 12,  2,  7, 13, 19, 14,  4,  5,  0, 19,  2,  4,  7])"
      ]
     },
     "execution_count": 362,
     "metadata": {},
     "output_type": "execute_result"
    }
   ],
   "source": [
    "ly_act_week_sales_state[:-1]"
   ]
  },
  {
   "cell_type": "code",
   "execution_count": 363,
   "metadata": {},
   "outputs": [
    {
     "data": {
      "text/plain": [
       "array([13,  7, 13, 13,  7, 19, 14, 12,  7, 13,  2, 17,  1, 10, 14, 13, 15,\n",
       "       15, 14,  4,  6,  9,  8, 14, 13,  0,  6,  6,  2,  5,  0, 12,  5,  0,\n",
       "       14, 11, 17, 12,  2,  7, 13, 19, 14,  4,  5,  0, 19,  2,  4,  7,  2])"
      ]
     },
     "execution_count": 363,
     "metadata": {},
     "output_type": "execute_result"
    }
   ],
   "source": [
    "ly_act_week_sales_state[1:]"
   ]
  },
  {
   "cell_type": "code",
   "execution_count": 364,
   "metadata": {},
   "outputs": [],
   "source": [
    "M = transition_matrix(ly_act_week_sales_state, n_states)"
   ]
  },
  {
   "cell_type": "markdown",
   "metadata": {},
   "source": [
    "#### Step 4"
   ]
  },
  {
   "cell_type": "code",
   "execution_count": 369,
   "metadata": {},
   "outputs": [],
   "source": [
    "def sales_forecast(init_state, transition_matrix, step, n_states):\n",
    "    fcast_week_state = np.zeros(step+1)\n",
    "    fcast_week_state[0] = np.int(init_state)\n",
    "    \n",
    "    for i in range(1, step+1):\n",
    "        last_state = np.int(fcast_week_state[i-1])\n",
    "        next_state = np.random.choice(n_states, size=1, p=transition_matrix[last_state,:])[0]\n",
    "        fcast_week_state[i] = next_state\n",
    "        #print(next_state)\n",
    "        \n",
    "    return fcast_week_state.astype(int)"
   ]
  },
  {
   "cell_type": "code",
   "execution_count": 440,
   "metadata": {},
   "outputs": [],
   "source": [
    "## map state to the corresponding sales values\n",
    "def state_to_values(arr_state, arr_mapping):\n",
    "    arr_fcast = np.zeros(arr_state.shape[0])\n",
    "    for i in range(arr_state.shape[0]):\n",
    "        arr_fcast[i] = arr_mapping[arr_state[i]]\n",
    "    return arr_fcast"
   ]
  },
  {
   "cell_type": "code",
   "execution_count": 467,
   "metadata": {},
   "outputs": [
    {
     "name": "stdout",
     "output_type": "stream",
     "text": [
      "Mean Error after 1000 iterations: -67.94\n",
      "Forecast Error in %: -0.013803331978870377\n"
     ]
    }
   ],
   "source": [
    "## 1000 iterations against the last year prediction\n",
    "arr_err = []\n",
    "for i in range(1000):\n",
    "    arr_err.append(np.sum(state_to_values(sales_forecast(1, M, 51, n_states), \n",
    "                                           ly_act_week_sales_fcast) - ly_act_week_sales))\n",
    "print('Mean Error after 1000 iterations: {}'.format(np.mean(arr_err)))\n",
    "print('Forecast Error in %: {}'.format(np.mean(arr_err) / np.sum(ly_act_week_sales)))"
   ]
  },
  {
   "cell_type": "code",
   "execution_count": 461,
   "metadata": {},
   "outputs": [
    {
     "data": {
      "text/plain": [
       "-0.02296424217797643"
      ]
     },
     "execution_count": 461,
     "metadata": {},
     "output_type": "execute_result"
    }
   ],
   "source": [
    "-113.03 / np.sum(ly_act_week_sales)"
   ]
  },
  {
   "cell_type": "code",
   "execution_count": 427,
   "metadata": {},
   "outputs": [],
   "source": [
    "np.random.seed(1)\n",
    "ty_act_week_sales = np.random.randint(low=low+10, high=high-10, size=week_size)"
   ]
  },
  {
   "cell_type": "code",
   "execution_count": 428,
   "metadata": {},
   "outputs": [
    {
     "data": {
      "text/plain": [
       "array([ 47, 150,  82, 147, 143,  89, 154, 139,  81, 144,  35, 188,  30,\n",
       "       111, 156, 149, 166, 167, 152,  60,  78, 106,  96, 151, 147,  17,\n",
       "        73,  71,  32,  67,  11, 138,  70,  18, 151, 125, 185, 131,  40,\n",
       "        81, 141, 159,  59,  67,  13,  34,  53,  86,  36,  62,  90, 119])"
      ]
     },
     "execution_count": 428,
     "metadata": {},
     "output_type": "execute_result"
    }
   ],
   "source": [
    "ty_act_week_sales"
   ]
  },
  {
   "cell_type": "code",
   "execution_count": 435,
   "metadata": {},
   "outputs": [],
   "source": [
    "ty_act_week_sales_state, ty_act_week_sales_fcast = sales_state_class(ty_act_week_sales, low+10, high-10, n_states)"
   ]
  },
  {
   "cell_type": "code",
   "execution_count": 436,
   "metadata": {},
   "outputs": [
    {
     "data": {
      "text/plain": [
       "array([ 14.5,  23.5,  32.5,  41.5,  50.5,  59.5,  68.5,  77.5,  86.5,\n",
       "        95.5, 104.5, 113.5, 122.5, 131.5, 140.5, 149.5, 158.5, 167.5,\n",
       "       176.5, 185.5])"
      ]
     },
     "execution_count": 436,
     "metadata": {},
     "output_type": "execute_result"
    }
   ],
   "source": [
    "ty_act_week_sales_fcast"
   ]
  },
  {
   "cell_type": "code",
   "execution_count": 430,
   "metadata": {},
   "outputs": [
    {
     "data": {
      "text/plain": [
       "array([ 4, 14,  8, 14, 14,  8, 15, 13,  8, 14,  3, 18,  2, 11, 15, 14, 16,\n",
       "       16, 15,  5,  7, 10,  9, 15, 14,  1,  7,  7,  3,  6,  1, 13,  6,  1,\n",
       "       15, 12, 18, 13,  3,  8, 14, 15,  5,  6,  1,  3,  5,  8,  3,  6,  8,\n",
       "       11])"
      ]
     },
     "execution_count": 430,
     "metadata": {},
     "output_type": "execute_result"
    }
   ],
   "source": [
    "ty_act_week_sales_state"
   ]
  },
  {
   "cell_type": "code",
   "execution_count": 466,
   "metadata": {},
   "outputs": [
    {
     "name": "stdout",
     "output_type": "stream",
     "text": [
      "Mean Error after 1000 iterations: -210.812\n",
      "Forecast Error in %: -0.041360015695507166\n"
     ]
    }
   ],
   "source": [
    "## 1000 iterations against this year prediction\n",
    "arr_err = []\n",
    "for i in range(1000):\n",
    "    arr_err.append(np.sum(state_to_values(sales_forecast(1, M, 51, n_states), \n",
    "                                           ty_act_week_sales_fcast) - ty_act_week_sales))\n",
    "print('Mean Error after 1000 iterations: {}'.format(np.mean(arr_err)))\n",
    "print('Forecast Error in %: {}'.format(np.mean(arr_err) / np.sum(ty_act_week_sales)))"
   ]
  },
  {
   "cell_type": "markdown",
   "metadata": {},
   "source": [
    "##### Notes:\n",
    "1. The overall forecast error rate is acceptable\n",
    "2. The calculation of transition matrix could be more sophisticated, e.g. take into account seasonality, week variable and promo"
   ]
  },
  {
   "cell_type": "code",
   "execution_count": null,
   "metadata": {},
   "outputs": [],
   "source": []
  },
  {
   "cell_type": "markdown",
   "metadata": {},
   "source": [
    "## Forecasting using ARIMA"
   ]
  },
  {
   "cell_type": "code",
   "execution_count": 473,
   "metadata": {},
   "outputs": [],
   "source": [
    "#see R code"
   ]
  },
  {
   "cell_type": "code",
   "execution_count": 472,
   "metadata": {},
   "outputs": [
    {
     "data": {
      "text/plain": [
       "array([ 37, 140,  72, 137, 133,  79, 192, 144, 129,  71, 134,  25, 178,\n",
       "        20, 101, 146, 139, 156, 157, 142,  50,  68,  96,  86, 141, 137,\n",
       "         7,  63,  61,  22,  57,   1, 128,  60,   8, 141, 115, 175, 121,\n",
       "        30,  71, 131, 198, 149,  49,  57,   3, 196,  24,  43,  76,  26])"
      ]
     },
     "execution_count": 472,
     "metadata": {},
     "output_type": "execute_result"
    }
   ],
   "source": [
    "ly_act_week_sales"
   ]
  },
  {
   "cell_type": "code",
   "execution_count": null,
   "metadata": {},
   "outputs": [],
   "source": []
  },
  {
   "cell_type": "code",
   "execution_count": null,
   "metadata": {},
   "outputs": [],
   "source": []
  }
 ],
 "metadata": {
  "kernelspec": {
   "display_name": "Python 3",
   "language": "python",
   "name": "python3"
  },
  "language_info": {
   "codemirror_mode": {
    "name": "ipython",
    "version": 3
   },
   "file_extension": ".py",
   "mimetype": "text/x-python",
   "name": "python",
   "nbconvert_exporter": "python",
   "pygments_lexer": "ipython3",
   "version": "3.6.4"
  }
 },
 "nbformat": 4,
 "nbformat_minor": 2
}
